{
 "cells": [
  {
   "cell_type": "markdown",
   "metadata": {},
   "source": [
    "# Applicazione di metodi per la MOO al modello di Markowitz\n",
    "\n",
    "### Fabio Ciccarelli, matr. 1835348\n"
   ]
  },
  {
   "cell_type": "markdown",
   "metadata": {
    "heading_collapsed": true
   },
   "source": [
    "### Import librerie e definizione funzioni utili"
   ]
  },
  {
   "cell_type": "code",
   "execution_count": 1,
   "metadata": {
    "hidden": true
   },
   "outputs": [
    {
     "name": "stdout",
     "output_type": "stream",
     "text": [
      "\n"
     ]
    }
   ],
   "source": [
    "import pandas as pd\n",
    "import numpy as np\n",
    "import matplotlib.pyplot as plt\n",
    "from scipy import optimize\n",
    "import seaborn as sns\n",
    "from itertools import permutations\n",
    "import random\n",
    "from tqdm.notebook import tqdm                                        \n",
    "\n",
    "\n",
    "import warnings\n",
    "warnings.filterwarnings('ignore')\n",
    "warnings.warn('DelftStack')\n",
    "warnings.warn('Do not show this message')\n",
    "print(\"\")                                                              # Per ignorare i messaggi di warning \n",
    "\n",
    "\n",
    "try:\n",
    "    import ipywidgets as widgets\n",
    "except:\n",
    "    !pip install ipywidgets\n",
    "\n",
    "from ipywidgets import interact, interact_manual, fixed                 # Strumenti interattivi"
   ]
  },
  {
   "cell_type": "code",
   "execution_count": 2,
   "metadata": {
    "hidden": true
   },
   "outputs": [],
   "source": [
    "'''Questa funzione è stata definita con l'intento di ottenere uno strumento utile a costruire i pesi da \n",
    "utilizzare nel metodo della somma pesata. In realtà, avendo provato il metodo solo per problemi bi-obiettivo, non ho avuto\n",
    "modo di testarla. Ad ogni modo, utilizzando questo metodo di costruzione dei pesi ottieniamo pochi punti della frontiera di\n",
    "Pareto (perchè, banalmente, eseguiamo poche iterazioni)''';\n",
    "\n",
    "def build_priorities(p):\n",
    "    w = []\n",
    "    for i in range(p):\n",
    "        act_priority = []\n",
    "        weights = list(range(1, p+1))\n",
    "        for j in range(i, len(weights)):\n",
    "            act_priority.append(weights[j])\n",
    "        for j in range(i):\n",
    "            act_priority.append(weights[j])\n",
    "        w.append(np.array(act_priority)/sum(act_priority))\n",
    "        \n",
    "    return w"
   ]
  },
  {
   "cell_type": "code",
   "execution_count": 3,
   "metadata": {
    "hidden": true
   },
   "outputs": [],
   "source": [
    "'''Funzione per il filtraggio delle soluzioni debolmente non-dominate''';\n",
    "\n",
    "def filter_wn(S):\n",
    "    S_new = S.copy()\n",
    "    \n",
    "    for row1 in tqdm(S.index, desc = '***Eliminazione soluzioni debolmente non-dominate***'):\n",
    "            for row2 in S.index:\n",
    "                if S.loc[row1, 'y1']>=S.loc[row2, 'y1'] and S.loc[row1, 'y2']>=S.loc[row2, 'y2'] and \\\n",
    "                (S.loc[row1, 'y1']!=S.loc[row2, 'y1'] or S.loc[row1, 'y2']!=S.loc[row2, 'y2']):\n",
    "                    S_new = S_new.drop( labels = [row1])\n",
    "                    #print(S_new)\n",
    "                    break\n",
    "                    \n",
    "    return(S_new)\n",
    "\n",
    "\n",
    "    "
   ]
  },
  {
   "cell_type": "markdown",
   "metadata": {},
   "source": [
    "## Definizione metodo dei pesi"
   ]
  },
  {
   "cell_type": "code",
   "execution_count": 4,
   "metadata": {
    "code_folding": []
   },
   "outputs": [],
   "source": [
    "# DEFINIZIONE METODO DEI PESI\n",
    "\n",
    "def weighted_sum_method(functions, n, g, maxit):\n",
    "    p = len(functions)\n",
    "    \n",
    "    if p == 2:\n",
    "        w = []\n",
    "        for delta in np.arange(0,1, 1/maxit):\n",
    "            w.append([delta, 1-delta])\n",
    "    else:\n",
    "        w = build_priorities(p)\n",
    "    \n",
    "    X_we = {}\n",
    "    Y_wn = {}          # Inizializzo due dizionari per salvare i punti Pareto-efficienti e le soluzioni non-dominate\n",
    "    \n",
    "    \n",
    "    \n",
    "    \n",
    "    \n",
    "    for i in tqdm(range(len(w)), desc = '***Applicazione metodo dei pesi***'):\n",
    "    \n",
    "        def F(x):\n",
    "            return sum(functions[j](x)*w[i][j] for j in range(p))      # Creo la nuova f.o. come combinazione lineare delle \n",
    "                                                                        # p funzioni obiettivo del problema\n",
    "            \n",
    "        \n",
    "        x_0 = np.random.rand(n)\n",
    "        results = optimize.minimize(F, x_0/sum(x_0), constraints = g)\n",
    "        \n",
    "        if results['success'] == True:\n",
    "            X_we[str(i)] = results['x']\n",
    "            \n",
    "            \n",
    "            Y_wn[str(i)] = []\n",
    "            \n",
    "            \n",
    "            for j in range(p):\n",
    "                Y_wn[str(i)].append(functions[j](results['x']))            # Aggiorno i due dizionari X_we e Y_wn\n",
    "                \n",
    "                \n",
    "\n",
    "    \n",
    "    \n",
    "    \n",
    "        \n",
    "    return Y_wn        # Restituisco solo Y_wn perché mi servirà per plottare la frontiera di Pareto\n",
    "        \n",
    "        \n",
    "            \n",
    "    "
   ]
  },
  {
   "cell_type": "markdown",
   "metadata": {},
   "source": [
    "## Definizione metodo degli $\\varepsilon$-vincoli"
   ]
  },
  {
   "cell_type": "code",
   "execution_count": 5,
   "metadata": {
    "code_folding": []
   },
   "outputs": [],
   "source": [
    "# DEFINIZIONE METODO DEGLI EPS-VINCOLI\n",
    "\n",
    "def eps_constraint(functions, n, g, maxit, tan = False):\n",
    "    p = len(functions)\n",
    "    \n",
    "    X_we = {}\n",
    "    Y_wn = {}\n",
    "    \n",
    "    \n",
    "    if tan == True:\n",
    "        x_0 = np.array([0.5823332, 0.93769985])  # Nel caso di problema di Tanaka, è meglio partire da un punto ammissibile\n",
    "        \n",
    "    else:\n",
    "        x_0 = np.random.rand(n)\n",
    "        x_0 = x_0/sum(x_0)\n",
    "        \n",
    "    \n",
    "    \n",
    "    if p==2:\n",
    "        x_1 = optimize.minimize(functions[0], x_0, constraints = g)['x']\n",
    "        x_2 = optimize.minimize(functions[1], x_0, constraints = g)['x']   # Minimizzo le due f.o. singolarmente\n",
    "        \n",
    "        y_1 = [float(functions[0](x_1)),float(functions[1](x_1))]\n",
    "        y_2 = [float(functions[0](x_2)),float(functions[1](x_2))]\n",
    "        \n",
    "        \n",
    "        k = 0\n",
    "    \n",
    "        \n",
    "        for eps in tqdm(np.arange(y_2[0], y_1[0], -(y_2[0]-y_1[0])/maxit), desc = '***Applicazione metodo eps-vincoli***'):\n",
    "            g_ = []\n",
    "            for c in g:\n",
    "                g_.append(c)\n",
    "            g_.append(optimize.NonlinearConstraint(functions[0], -np.inf, eps))\n",
    "            \n",
    "            \n",
    "            \n",
    "            Results = optimize.minimize(functions[1], np.random.rand(n), constraints = g_);\n",
    "            if Results['success'] == False:\n",
    "                continue\n",
    "            \n",
    "            Y_wn[str(k)] = []\n",
    "            for j in range(p):\n",
    "                Y_wn[str(k)].append(functions[j](Results['x']))  # Aggiorno i dizionari\n",
    "                \n",
    "            k = k+1\n",
    "        \n",
    "        if p>2:\n",
    "            x_opt = optimize.minimize(functions[0], x_0, constraints = g)\n",
    "            \n",
    "            g_new = g + [(optimize.NonlinearConstraint(functions[0], -np.inf, functions[0](x_opt)))]\n",
    "            \n",
    "            functions_new = functions.pop(0)\n",
    "            \n",
    "            return eps_constraint(functions_new, n, g_new, maxit)  # Se p>2 applico ricorsivamente il metodo degli eps-vincoli\n",
    "            \n",
    "        return Y_wn"
   ]
  },
  {
   "attachments": {
    "Schaffer%20function.jpg": {
     "image/jpeg": "[encoded data removed]"
    }
   },
   "cell_type": "markdown",
   "metadata": {
    "heading_collapsed": true
   },
   "source": [
    "## Problema di Schaffer\n",
    "\n",
    "Il problema di Schaffer è così definito:\n",
    "\n",
    "$$\n",
    "\\begin{align}\n",
    "&\\min  \\ \\ \\ \\   (x^2, (x-2)^2) \\\\\n",
    "& \\ s.t.  \\quad \\   -10 \\leq x \\leq 10 \n",
    "\\end{align}\n",
    "$$\n",
    "\n",
    "Con la seguente frontiera di Pareto:\n",
    "\n",
    "![Schaffer%20function.jpg](attachment:Schaffer%20function.jpg)"
   ]
  },
  {
   "cell_type": "code",
   "execution_count": 6,
   "metadata": {
    "hidden": true
   },
   "outputs": [],
   "source": [
    "def Schaffer1(x):\n",
    "    return x**2 \n",
    "\n",
    "def Schaffer2(x):\n",
    "    return (x-2)**2\n",
    "\n",
    "\n",
    "Schaffer = [Schaffer1, Schaffer2]\n",
    "\n",
    "\n",
    "def g1_schaf(x):\n",
    "    return x\n",
    "\n",
    "g1_schaffer = optimize.NonlinearConstraint(g1_schaf, -10, 10)\n",
    "\n",
    "g_schaffer = [g1_schaffer]"
   ]
  },
  {
   "attachments": {
    "output-onlinejpgtools-ConvertImage.jpg": {
     "image/jpeg": "[encoded data removed]"
    }
   },
   "cell_type": "markdown",
   "metadata": {
    "heading_collapsed": true
   },
   "source": [
    "## Problema di Tanaka\n",
    "\n",
    "Il problema di Tanaka è così definito:\n",
    "\n",
    "$$\n",
    "\\begin{align}\n",
    "& min \\ \\ (x_1, x_2) \\\\\n",
    "&s.t.\\quad x_1^2+x_2^2 -1 - 0.1\\cos ( 16\\arctan  \\frac{x_1}{x_2}) \\geq 0 \\\\\n",
    "& \\  \\ \\quad \\quad(x_1-0.5)^2+(x_2-0.5)^2 \\leq 0.5 \\\\\n",
    "&\\\\\n",
    "& \\ \\ \\quad \\quad 0 \\leq x \\leq \\pi \n",
    "\\end{align}\n",
    "$$\n",
    "\n",
    "Con la seguente frontiera di Pareto:\n",
    "\n",
    "![output-onlinejpgtools-ConvertImage.jpg](attachment:output-onlinejpgtools-ConvertImage.jpg)\n",
    "\n"
   ]
  },
  {
   "cell_type": "code",
   "execution_count": 7,
   "metadata": {
    "hidden": true
   },
   "outputs": [],
   "source": [
    "def Tanaka1(x):\n",
    "    return x[0]\n",
    "\n",
    "def Tanaka2(x):\n",
    "    return x[1]\n",
    "\n",
    "Tanaka = [Tanaka1, Tanaka2]\n",
    "\n",
    "def g1_tan(x):\n",
    "    return x[0]**2+x[1]**2-1-0.1*np.cos(16*np.arctan(x[0]/x[1]))\n",
    "\n",
    "def g2_tan(x):\n",
    "    return (x[0]-0.5)**2+(x[1]-0.5)**2 \n",
    "\n",
    "def g3_tan(x):\n",
    "    return x\n",
    "\n",
    "g1_tanaka, g2_tanaka, g3_tanaka = optimize.NonlinearConstraint(g1_tan, 0, np.inf), optimize.NonlinearConstraint(g2_tan, -np.inf , 0.5), optimize.NonlinearConstraint(g3_tan, 0, np.pi)\n",
    "    \n",
    "g_tanaka = [g1_tanaka, g2_tanaka, g3_tanaka]"
   ]
  },
  {
   "cell_type": "markdown",
   "metadata": {},
   "source": [
    "## Applicazione metodo dei pesi ai problemi di Schaffer e Tanaka"
   ]
  },
  {
   "cell_type": "code",
   "execution_count": 8,
   "metadata": {
    "code_folding": [
     3
    ]
   },
   "outputs": [
    {
     "data": {
      "application/vnd.jupyter.widget-view+json": {
       "model_id": "fafe0b6271aa4fe3acba6368b019738f",
       "version_major": 2,
       "version_minor": 0
      },
      "text/plain": [
       "HBox(children=(HTML(value='***Applicazione metodo dei pesi***'), FloatProgress(value=0.0), HTML(value='')))"
      ]
     },
     "metadata": {},
     "output_type": "display_data"
    },
    {
     "name": "stdout",
     "output_type": "stream",
     "text": [
      "\n"
     ]
    },
    {
     "data": {
      "image/png": "[encoded data removed]",
      "text/plain": [
       "<Figure size 449.28x361.44 with 1 Axes>"
      ]
     },
     "metadata": {
      "needs_background": "light"
     },
     "output_type": "display_data"
    }
   ],
   "source": [
    "A = weighted_sum_method(Schaffer, 1, g_schaffer, 100)\n",
    "D = pd.DataFrame(columns = ['y1', 'y2'])\n",
    "\n",
    "for i in A:\n",
    "    z =  {}\n",
    "    z = {'y1': A[i][0], 'y2': A[i][1]}\n",
    "    D = D.append(z, ignore_index = True)\n",
    "    \n",
    "    \n",
    "plt.figure(figsize=(6.24,5.02))\n",
    "plt.scatter(D.iloc[:, 0], D.iloc[:, 1], c = 'g', s=5);\n",
    "plt.plot(D.iloc[:, 0], D.iloc[:, 1], linewidth = 0.1, color = 'gray');\n",
    "plt.ylabel('f_2', rotation = 90, fontweight='bold');\n",
    "plt.xlabel('f_1', fontweight = 'bold');\n",
    "plt.title('Schaffer problem (weighted-sum)', fontweight = 'bold', color = 'green');"
   ]
  },
  {
   "cell_type": "code",
   "execution_count": 9,
   "metadata": {
    "code_folding": [
     3
    ]
   },
   "outputs": [
    {
     "data": {
      "application/vnd.jupyter.widget-view+json": {
       "model_id": "fed524da6bfa46df93a3f8a97beab7ad",
       "version_major": 2,
       "version_minor": 0
      },
      "text/plain": [
       "HBox(children=(HTML(value='***Applicazione metodo dei pesi***'), FloatProgress(value=0.0, max=400.0), HTML(val…"
      ]
     },
     "metadata": {},
     "output_type": "display_data"
    },
    {
     "name": "stdout",
     "output_type": "stream",
     "text": [
      "\n"
     ]
    },
    {
     "data": {
      "application/vnd.jupyter.widget-view+json": {
       "model_id": "46b63eef0eaa43a9befce8d6e16d4f58",
       "version_major": 2,
       "version_minor": 0
      },
      "text/plain": [
       "HBox(children=(HTML(value='***Eliminazione soluzioni debolmente non-dominate***'), FloatProgress(value=0.0, ma…"
      ]
     },
     "metadata": {},
     "output_type": "display_data"
    },
    {
     "name": "stdout",
     "output_type": "stream",
     "text": [
      "\n"
     ]
    },
    {
     "data": {
      "image/png": "[encoded data removed]",
      "text/plain": [
       "<Figure size 449.28x361.44 with 1 Axes>"
      ]
     },
     "metadata": {
      "needs_background": "light"
     },
     "output_type": "display_data"
    }
   ],
   "source": [
    "A = weighted_sum_method(Tanaka, 2, g_tanaka, 400)\n",
    "D = pd.DataFrame(columns = ['y1', 'y2'])\n",
    "\n",
    "for i in A:\n",
    "    z =  {}\n",
    "    z = {'y1': A[i][0], 'y2': A[i][1]}\n",
    "    D = D.append(z, ignore_index = True)\n",
    "    \n",
    "   \n",
    "\n",
    "D = filter_wn(D)\n",
    "\n",
    "plt.figure(figsize=(6.24,5.02))\n",
    "plt.scatter(D.iloc[:, 0], D.iloc[:, 1], c = 'b', s=5);\n",
    "plt.ylabel('f_2', rotation = 90, fontweight='bold');\n",
    "plt.xlabel('f_1', fontweight = 'bold');\n",
    "plt.title('Tanaka problem (weighted-sum)', fontweight = 'bold', color = 'blue');"
   ]
  },
  {
   "cell_type": "markdown",
   "metadata": {},
   "source": [
    "## Applicazione metodo degli $\\varepsilon$-vincoli ai problemi di Schaffer e Tanaka"
   ]
  },
  {
   "cell_type": "code",
   "execution_count": 10,
   "metadata": {
    "code_folding": [
     3
    ]
   },
   "outputs": [
    {
     "data": {
      "application/vnd.jupyter.widget-view+json": {
       "model_id": "91c087a6f8014c2bbc86b1c37793b285",
       "version_major": 2,
       "version_minor": 0
      },
      "text/plain": [
       "HBox(children=(HTML(value='***Applicazione metodo eps-vincoli***'), FloatProgress(value=0.0, max=600.0), HTML(…"
      ]
     },
     "metadata": {},
     "output_type": "display_data"
    },
    {
     "name": "stdout",
     "output_type": "stream",
     "text": [
      "\n"
     ]
    },
    {
     "data": {
      "image/png": "[encoded data removed]",
      "text/plain": [
       "<Figure size 449.28x361.44 with 1 Axes>"
      ]
     },
     "metadata": {
      "needs_background": "light"
     },
     "output_type": "display_data"
    }
   ],
   "source": [
    "A = eps_constraint(Schaffer, 1, g_schaffer, 600)\n",
    "D = pd.DataFrame(columns = ['y1', 'y2'])\n",
    "\n",
    "for i in A:\n",
    "    z =  {}\n",
    "    z = {'y1': A[i][0], 'y2': A[i][1]}\n",
    "    D = D.append(z, ignore_index = True)\n",
    "    \n",
    "    \n",
    "plt.figure(figsize=(6.24,5.02))\n",
    "plt.scatter(D.iloc[:, 0], D.iloc[:, 1], c = 'green', s=5);\n",
    "plt.ylabel('f_2', rotation = 90, fontweight='bold');\n",
    "plt.xlabel('f_1', fontweight = 'bold');\n",
    "plt.title('Schaffer problem (eps-constraints)', fontweight = 'bold', color = 'green');"
   ]
  },
  {
   "cell_type": "code",
   "execution_count": 11,
   "metadata": {
    "code_folding": [
     3
    ]
   },
   "outputs": [
    {
     "data": {
      "application/vnd.jupyter.widget-view+json": {
       "model_id": "0827a686a2974c8985f4da544cb64e41",
       "version_major": 2,
       "version_minor": 0
      },
      "text/plain": [
       "HBox(children=(HTML(value='***Applicazione metodo eps-vincoli***'), FloatProgress(value=0.0, max=600.0), HTML(…"
      ]
     },
     "metadata": {},
     "output_type": "display_data"
    },
    {
     "name": "stdout",
     "output_type": "stream",
     "text": [
      "\n"
     ]
    },
    {
     "data": {
      "application/vnd.jupyter.widget-view+json": {
       "model_id": "47adef039dfd4e02ac59c715d3aafac2",
       "version_major": 2,
       "version_minor": 0
      },
      "text/plain": [
       "HBox(children=(HTML(value='***Eliminazione soluzioni debolmente non-dominate***'), FloatProgress(value=0.0, ma…"
      ]
     },
     "metadata": {},
     "output_type": "display_data"
    },
    {
     "name": "stdout",
     "output_type": "stream",
     "text": [
      "\n"
     ]
    },
    {
     "data": {
      "image/png": "[encoded data removed]",
      "text/plain": [
       "<Figure size 449.28x361.44 with 1 Axes>"
      ]
     },
     "metadata": {
      "needs_background": "light"
     },
     "output_type": "display_data"
    }
   ],
   "source": [
    "A = eps_constraint(Tanaka, 2, g_tanaka, 600, tan = True)\n",
    "D = pd.DataFrame(columns = ['y1', 'y2'])\n",
    "\n",
    "for i in A:\n",
    "    z =  {}\n",
    "    z = {'y1': A[i][0], 'y2': A[i][1]}\n",
    "    D = D.append(z, ignore_index = True)\n",
    "    \n",
    "D = filter_wn(D)\n",
    "    \n",
    "    \n",
    "plt.figure(figsize= (6.24,5.02))\n",
    "plt.scatter(D.iloc[:, 0], D.iloc[:, 1], c = 'b', s=5);\n",
    "plt.ylabel('f_2', rotation = 90, fontweight='bold');\n",
    "plt.xlabel('f_1', fontweight = 'bold');\n",
    "plt.title('Tanaka problem (eps-constraints)', fontweight = 'bold', color = 'blue');"
   ]
  },
  {
   "cell_type": "markdown",
   "metadata": {},
   "source": [
    "# IL MODELLO DI MARKOWITZ\n"
   ]
  },
  {
   "cell_type": "markdown",
   "metadata": {},
   "source": [
    "Il modello di Markowitz è un modello di ottimizzazione della ripartizione degli investimenti in un portafoglio. Tale modello si presta bene alle logiche di ottimizzazione multiobiettivo poiché richiede contemporaneamente di massimizzare il rendimento atteso dell'investimento, e di minimizzarne la variabilità.\n",
    "\n",
    "Dati dunque n possibili investimenti, il modello può essere descritto dalle variabili e dai parametri seguenti:\n",
    "\n",
    "\n",
    "$\n",
    "\\begin{align}\n",
    "&x_i \\quad i = 1,...,n \\quad &\\textit{Porzione di capitale impegnata nell'investimento i-esimo} \\nonumber \\\\\n",
    "&\\mu_i \\quad i = 1,...,n \\quad &\\textit{Rendimento atteso dell'investimento i-esimo} \\nonumber \\\\\n",
    "&\\sigma_i \\quad i = 1,...,n \\quad & \\textit{Variabilità dell'investimento i-esimo} \\nonumber \\\\\n",
    "&\\rho_{ij} \\quad i,j = 1,..., n \\quad &\\textit{Coefficiente di correlazione tra gli investimenti i-esimo e j-esimo} \\nonumber \n",
    "\\end{align}\n",
    "$\n",
    "\n",
    "Come già detto, l'obiettivo sarà dunque quello di massimizzare il rendimento complessivo dell'investimento, minimizzandone il rischio (inteso come variabilità del rendimento).\n",
    "\n",
    "\n",
    "\n",
    "$\\\\\n",
    "$\n",
    "\n",
    "\n",
    "$$\n",
    "\\begin{align}\n",
    "& min &(-\\mu^Tx,\\ \\  x^TQx)  \\nonumber \\\\\n",
    "& s.t. &e^Tx = 1 \\\\\n",
    "& & x \\geq 0\n",
    "\\end{align}\n",
    "$$\n",
    "\n",
    "$\\\\\n",
    "$\n",
    "\n",
    "\n",
    "Con $\\ \\ e \\in \\mathbb{R}^n \\ \\ \\ t.c. \\ \\ \\ e_i = 1 \\ \\ \\forall \\ \\ i \\in \\{1,...,n\\}$ e $\\ \\ Q \\in \\mathbb{R}^{nxn} \\ \\ \\ t.c. \\ \\ \\ q_{ij} = \\rho_{ij}\\sigma_i\\sigma_j$, vale a dire che Q è la matrice di covarianza degli investimenti considerati. Infatti:\n",
    "\n",
    "$$\n",
    "\\begin{equation}\n",
    "\\rho_{x_1, x_2} = \\frac{Cov \\ (x_1,x_2)}{\\sigma_{x_1}\\sigma_{x_2}}\n",
    "\\end{equation}\n",
    "$$\n",
    "\n",
    "Si tratta dunque di un problema di ottimizzazione biobiettivo, con il vincolo che le variabili decisionali, positive, sommino a 1.\n",
    "Inoltre, dal momento che la matrice di covarianza è simmetrica e semidefinita positiva, le due funzioni obiettivo che otteniamo sono l'una lineare, l'altra convessa (la stretta convessità dipende dalla possibilità che la matrice Q sia o meno singolare).\n",
    "\n",
    "Procediamo dunque ad analizzare il comportamento dei due algoritmi definiti precedentemente (il metodo dei pesi e quello degli $\\varepsilon$-vincoli) sul problema di MOO formulato poc'anzi ed applicato ad un portafoglio di 5 titoli azionari (Apple, Amazon, Microsoft, Goldman-Sachs e Pfizer).\n",
    "\n"
   ]
  },
  {
   "cell_type": "markdown",
   "metadata": {},
   "source": [
    "## Formulazione del problema"
   ]
  },
  {
   "cell_type": "code",
   "execution_count": 12,
   "metadata": {},
   "outputs": [],
   "source": [
    "num_var = 5\n",
    "\n",
    "\n",
    "Markowitz = []\n",
    "\n",
    "def f1_mark(x):\n",
    "    return - mu @ x\n",
    "\n",
    "\n",
    "Markowitz.append(f1_mark)\n",
    "\n",
    "def f2_mark(x):\n",
    "    return x @ (cov @ x)\n",
    "\n",
    "Markowitz.append(f2_mark)\n",
    "\n",
    "\n",
    "g_markowitz = []\n",
    "\n",
    "\n",
    "g1_mark, g2_mark = optimize.LinearConstraint(np.ones(num_var), 1, 1), optimize.LinearConstraint(np.identity(num_var), np.zeros(num_var), np.inf)\n",
    "\n",
    "g_markowitz.append(g1_mark)\n",
    "g_markowitz.append(g2_mark)"
   ]
  },
  {
   "cell_type": "markdown",
   "metadata": {},
   "source": [
    "## Caricamento dati"
   ]
  },
  {
   "cell_type": "code",
   "execution_count": 13,
   "metadata": {},
   "outputs": [],
   "source": [
    "mu = np.array(pd.read_excel('data.xlsx', index_col=0, sheet_name = 'exp_ret').iloc[:, 0])\n",
    "\n",
    "cov = np.array(pd.read_excel('data.xlsx', index_col = 0, sheet_name = 'Variance-covariance'))\n",
    "\n",
    "cov = cov[2:][:]\n",
    "\n",
    "\n",
    "\n",
    "\n",
    "\n",
    "# rho = np.array(pd.read_excel('data.xlsx', index_col = 0, sheet_name = 'Correlation_matrix'))\n",
    "\n",
    "# rho = rho[2:][:]\n",
    "\n",
    "# rho"
   ]
  },
  {
   "cell_type": "markdown",
   "metadata": {},
   "source": [
    "### Analisi preliminare dei dati"
   ]
  },
  {
   "cell_type": "code",
   "execution_count": 14,
   "metadata": {},
   "outputs": [
    {
     "data": {
      "image/png": "[encoded data removed]",
      "text/plain": [
       "<Figure size 576x360 with 1 Axes>"
      ]
     },
     "metadata": {
      "needs_background": "light"
     },
     "output_type": "display_data"
    }
   ],
   "source": [
    "X = ['APPL','AMZN','MSFT','GS', 'PFZR']\n",
    "mean = mu\n",
    "var = []\n",
    "\n",
    "for i in range(5):\n",
    "    var.append((cov[i][i]))\n",
    "  \n",
    "\n",
    "X_axis = np.arange(len(X))\n",
    "\n",
    "plt.figure(figsize = (8,5))\n",
    "plt.bar(X_axis - 0.2, mean, 0.4, label = 'Rendimento atteso')\n",
    "plt.bar(X_axis + 0.2, var, 0.4, label = 'Variabilità')\n",
    "  \n",
    "plt.xticks(X_axis, X)\n",
    "plt.title(\"Rendimento atteso e variabilità di ciascun titolo\")\n",
    "plt.legend()\n",
    "plt.show()"
   ]
  },
  {
   "cell_type": "markdown",
   "metadata": {},
   "source": [
    "### Matrice di correlazione"
   ]
  },
  {
   "cell_type": "code",
   "execution_count": 15,
   "metadata": {},
   "outputs": [],
   "source": [
    "titles = ['APPL','AMZN','MSFT','GS','PFZR']\n",
    "\n",
    "corr_matr = pd.DataFrame(index = titles, columns = titles)\n",
    "\n",
    "\n",
    "\n",
    "for i in range (5):\n",
    "    for j in range(5):\n",
    "        corr_matr.iloc[i, j] = cov[i][j]/(np.sqrt(cov[i][i])*np.sqrt(cov[j][j]))\n",
    "        \n",
    "\n",
    "\n",
    "corr_matr.fillna(value=np.nan, inplace=True)\n",
    "\n",
    "# corr_matr"
   ]
  },
  {
   "cell_type": "code",
   "execution_count": 16,
   "metadata": {
    "scrolled": false
   },
   "outputs": [
    {
     "data": {
      "image/png": "[encoded data removed]",
      "text/plain": [
       "<Figure size 720x576 with 2 Axes>"
      ]
     },
     "metadata": {
      "needs_background": "light"
     },
     "output_type": "display_data"
    }
   ],
   "source": [
    "fig, ax = plt.subplots(figsize = (10,8) )\n",
    "ax.set_title(\"Assets correlation matrix\", fontweight = \"bold\")\n",
    "sns.heatmap(corr_matr, annot = True, cmap = 'Blues',\n",
    "           xticklabels = corr_matr.columns, yticklabels = corr_matr.columns, ax = ax)\n",
    "\n",
    "\n",
    "\n",
    "\n",
    "ax.set_xticklabels(labels = corr_matr.columns, rotation = 45)\n",
    "\n",
    "fig.tight_layout()"
   ]
  },
  {
   "cell_type": "markdown",
   "metadata": {},
   "source": [
    "### Risultati ottenuti applicando il modello di Markowitz mono-obiettivo"
   ]
  },
  {
   "cell_type": "code",
   "execution_count": 17,
   "metadata": {
    "scrolled": false
   },
   "outputs": [
    {
     "data": {
      "application/vnd.jupyter.widget-view+json": {
       "model_id": "ffa1e6bf76024c64870a720df380d780",
       "version_major": 2,
       "version_minor": 0
      },
      "text/plain": [
       "interactive(children=(IntSlider(value=10, description='R', max=25, min=5, step=5), Output()), _dom_classes=('w…"
      ]
     },
     "metadata": {},
     "output_type": "display_data"
    }
   ],
   "source": [
    "def my_autopct(pct):\n",
    "    return ('%.2f' % pct) if pct > 0 else ''\n",
    "\n",
    "\n",
    "def opt_mark(R, n):\n",
    "    \n",
    "    \n",
    "    R = R/100\n",
    "    x_0 = np.random.rand(n)\n",
    "    \n",
    "    g_star = g_markowitz.copy()\n",
    "    g_star.append(optimize.LinearConstraint(mu, R, np.inf))\n",
    "    \n",
    "    results = optimize.minimize(f2_mark, x_0/sum(x_0), constraints = g_star)\n",
    "    percentages = abs(np.round(100*results['x'], 5))\n",
    "    \n",
    "    co_to_plot = []\n",
    "    pct_to_plot = []\n",
    "    \n",
    "    \n",
    "    for i in range(len(titles)):\n",
    "        if percentages[i] > 0:\n",
    "            pct_to_plot.append(percentages[i])\n",
    "            co_to_plot.append(titles[i])\n",
    "            \n",
    "    plt.pie(pct_to_plot, labels = co_to_plot)\n",
    "        \n",
    "    \n",
    "    for i in range(len(titles)):\n",
    "        if percentages[i] >= 1:\n",
    "            print(f'La porzione di capitale da investire in {titles[i]} è del {percentages[i]}%')\n",
    "            print('*'*100)\n",
    "        else:\n",
    "            print(f'La porzione di capitale da investire in {titles[i]} è dello {percentages[i]}%')\n",
    "            print('*'*100)\n",
    "            \n",
    "            \n",
    "    print(f'La variabilità del protafoglio così costituito è dello {results[\"fun\"]*100} %')\n",
    "\n",
    "\n",
    "    return \n",
    "\n",
    "interact(opt_mark,\n",
    "        R = widgets.IntSlider(10, 5, 25, 5),\n",
    "        n = fixed(5));\n",
    "\n"
   ]
  },
  {
   "cell_type": "code",
   "execution_count": 18,
   "metadata": {
    "scrolled": true
   },
   "outputs": [
    {
     "data": {
      "image/png": "[encoded data removed]",
      "text/plain": [
       "<Figure size 720x360 with 1 Axes>"
      ]
     },
     "metadata": {
      "needs_background": "light"
     },
     "output_type": "display_data"
    }
   ],
   "source": [
    "d = {'APPL': [], 'AMZN': [], 'MSFT':[], 'GS':[], 'PFZR':[]}\n",
    "\n",
    "for i in np.arange(0.05,0.30,0.05):\n",
    "    \n",
    "    x_0 = np.random.rand(num_var)\n",
    "    \n",
    "    x_0 = x_0/sum(x_0)\n",
    "    \n",
    "    g_star = g_markowitz.copy()\n",
    "    \n",
    "    g_star.append(optimize.LinearConstraint(mu, i, +np.inf))\n",
    "    \n",
    "    results = optimize.minimize(f2_mark, x_0, constraints = g_star)['x']\n",
    "    \n",
    "    for j in range(len(results)):\n",
    "        d[list(d.keys())[j]].append(abs(results[j]))\n",
    "\n",
    "\n",
    "fig, ax = plt.subplots(figsize = (10,5))\n",
    "width = 0.1\n",
    "\n",
    "x_lab = ['R = 5 %','R = 10 %','R = 15 %','R = 20 %','R = 25 %']\n",
    "\n",
    "ax.bar(x_lab, d['APPL'], width, color='salmon', label='APPL')\n",
    "ax.bar(x_lab, d['AMZN'], width, color='gold', label='AMZN',bottom = d['APPL'])\n",
    "ax.bar(x_lab, d['MSFT'], width, color='blue', label='MSFT',bottom = np.array(d['APPL']) + np.array(d['AMZN']))\n",
    "ax.bar(x_lab, d['GS'], width, color='lime', label='GS',bottom=np.array(d['APPL']) + np.array(d['AMZN']) + np.array(d['MSFT']))\n",
    "ax.bar(x_lab, d['PFZR'], width, color='magenta', bottom=np.array(d['APPL']) + np.array(d['AMZN']) + np.array(d['MSFT'])+ np.array(d['GS']),\n",
    "       label='PFZR')\n",
    "ax.legend(bbox_to_anchor=(1,1.02));"
   ]
  },
  {
   "cell_type": "markdown",
   "metadata": {},
   "source": [
    "## Applicazione metodo dei pesi"
   ]
  },
  {
   "cell_type": "code",
   "execution_count": 19,
   "metadata": {},
   "outputs": [
    {
     "data": {
      "application/vnd.jupyter.widget-view+json": {
       "model_id": "486ce324ad754fc382820014285d0dc5",
       "version_major": 2,
       "version_minor": 0
      },
      "text/plain": [
       "HBox(children=(HTML(value='***Applicazione metodo dei pesi***'), FloatProgress(value=0.0, max=400.0), HTML(val…"
      ]
     },
     "metadata": {},
     "output_type": "display_data"
    },
    {
     "name": "stdout",
     "output_type": "stream",
     "text": [
      "\n"
     ]
    },
    {
     "data": {
      "application/vnd.jupyter.widget-view+json": {
       "model_id": "d634a6bb9b694c0d8048a76cbac6155e",
       "version_major": 2,
       "version_minor": 0
      },
      "text/plain": [
       "HBox(children=(HTML(value='***Eliminazione soluzioni debolmente non-dominate***'), FloatProgress(value=0.0, ma…"
      ]
     },
     "metadata": {},
     "output_type": "display_data"
    },
    {
     "name": "stdout",
     "output_type": "stream",
     "text": [
      "\n"
     ]
    },
    {
     "data": {
      "image/png": "[encoded data removed]",
      "text/plain": [
       "<Figure size 449.28x361.44 with 1 Axes>"
      ]
     },
     "metadata": {
      "needs_background": "light"
     },
     "output_type": "display_data"
    }
   ],
   "source": [
    "A = weighted_sum_method(Markowitz, 5, g_markowitz, 400)\n",
    "D = pd.DataFrame(columns = ['y1', 'y2'])\n",
    "\n",
    "for i in A:\n",
    "    z =  {}\n",
    "    z = {'y1': A[i][0], 'y2': A[i][1]}\n",
    "    D = D.append(z, ignore_index = True)\n",
    "    \n",
    "D = filter_wn(D)\n",
    "    \n",
    "plt.figure(figsize=(6.24,5.02))\n",
    "plt.scatter( D.iloc[:, 1], - D.iloc[:, 0], c = 'black', s=5);\n",
    "# plt.plot(D.iloc[:, 0], D.iloc[:, 1], linewidth = 0.1, color = 'gray');\n",
    "plt.ylabel('Portfolio expected return', rotation = 90, fontweight='bold');\n",
    "plt.xlabel('Portfolio volatility', fontweight = 'bold');\n",
    "plt.title('Markowitz problem (weighted-sum)', fontweight = 'bold', color = 'black');\n"
   ]
  },
  {
   "cell_type": "markdown",
   "metadata": {},
   "source": [
    "## Applicazione metodo degli $\\varepsilon$-vincoli"
   ]
  },
  {
   "cell_type": "code",
   "execution_count": 20,
   "metadata": {
    "scrolled": false
   },
   "outputs": [
    {
     "data": {
      "application/vnd.jupyter.widget-view+json": {
       "model_id": "8d0da53b237245d2a255698e48e7a866",
       "version_major": 2,
       "version_minor": 0
      },
      "text/plain": [
       "HBox(children=(HTML(value='***Applicazione metodo eps-vincoli***'), FloatProgress(value=0.0, max=400.0), HTML(…"
      ]
     },
     "metadata": {},
     "output_type": "display_data"
    },
    {
     "name": "stdout",
     "output_type": "stream",
     "text": [
      "\n"
     ]
    },
    {
     "data": {
      "application/vnd.jupyter.widget-view+json": {
       "model_id": "35aa96acbb624f0b9fb4ce47af39c840",
       "version_major": 2,
       "version_minor": 0
      },
      "text/plain": [
       "HBox(children=(HTML(value='***Eliminazione soluzioni debolmente non-dominate***'), FloatProgress(value=0.0, ma…"
      ]
     },
     "metadata": {},
     "output_type": "display_data"
    },
    {
     "name": "stdout",
     "output_type": "stream",
     "text": [
      "\n"
     ]
    },
    {
     "data": {
      "image/png": "[encoded data removed]",
      "text/plain": [
       "<Figure size 449.28x361.44 with 1 Axes>"
      ]
     },
     "metadata": {
      "needs_background": "light"
     },
     "output_type": "display_data"
    }
   ],
   "source": [
    "A = eps_constraint(Markowitz, 5, g_markowitz, 400)\n",
    "D = pd.DataFrame(columns = ['y1', 'y2'])\n",
    "\n",
    "for i in A:\n",
    "    z =  {}\n",
    "    z = {'y1': A[i][0], 'y2': A[i][1]}\n",
    "    D = D.append(z, ignore_index = True)\n",
    "    \n",
    "D = filter_wn(D)\n",
    "    \n",
    "plt.figure(figsize=(6.24,5.02))\n",
    "plt.scatter( D.iloc[:, 1], - D.iloc[:, 0], c = 'black', s=5);\n",
    "# plt.plot(D.iloc[:, 0], D.iloc[:, 1], linewidth = 0.1, color = 'gray');\n",
    "plt.ylabel('Portfolio expected return', rotation = 90, fontweight='bold');\n",
    "plt.xlabel('Portfolio volatility', fontweight = 'bold');\n",
    "plt.title('Markowitz problem (eps-constraints)', fontweight = 'bold', color = 'black');\n",
    "\n"
   ]
  }
 ],
 "metadata": {
  "kernelspec": {
   "display_name": "Python 3",
   "language": "python",
   "name": "python3"
  },
  "language_info": {
   "codemirror_mode": {
    "name": "ipython",
    "version": 3
   },
   "file_extension": ".py",
   "mimetype": "text/x-python",
   "name": "python",
   "nbconvert_exporter": "python",
   "pygments_lexer": "ipython3",
   "version": "3.8.5"
  },
  "varInspector": {
   "cols": {
    "lenName": 16,
    "lenType": 16,
    "lenVar": 40
   },
   "kernels_config": {
    "python": {
     "delete_cmd_postfix": "",
     "delete_cmd_prefix": "del ",
     "library": "var_list.py",
     "varRefreshCmd": "print(var_dic_list())"
    },
    "r": {
     "delete_cmd_postfix": ") ",
     "delete_cmd_prefix": "rm(",
     "library": "var_list.r",
     "varRefreshCmd": "cat(var_dic_list()) "
    }
   },
   "types_to_exclude": [
    "module",
    "function",
    "builtin_function_or_method",
    "instance",
    "_Feature"
   ],
   "window_display": false
  }
 },
 "nbformat": 4,
 "nbformat_minor": 4
}
